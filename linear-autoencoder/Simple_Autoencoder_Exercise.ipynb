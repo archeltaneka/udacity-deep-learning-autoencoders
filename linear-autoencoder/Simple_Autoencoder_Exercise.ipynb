{
 "cells": [
  {
   "cell_type": "markdown",
   "metadata": {},
   "source": [
    "# A Simple Autoencoder\n",
    "\n",
    "We'll start off by building a simple autoencoder to compress the MNIST dataset. With autoencoders, we pass input data through an encoder that makes a compressed representation of the input. Then, this representation is passed through a decoder to reconstruct the input data. Generally the encoder and decoder will be built with neural networks, then trained on example data.\n",
    "\n",
    "<img src='notebook_ims/autoencoder_1.png' />\n",
    "\n",
    "### Compressed Representation\n",
    "\n",
    "A compressed representation can be great for saving and sharing any kind of data in a way that is more efficient than storing raw data. In practice, the compressed representation often holds key information about an input image and we can use it for denoising images or oher kinds of reconstruction and transformation!\n",
    "\n",
    "<img src='notebook_ims/denoising.png' width=60%/>\n",
    "\n",
    "In this notebook, we'll be build a simple network architecture for the encoder and decoder. Let's get started by importing our libraries and getting the dataset."
   ]
  },
  {
   "cell_type": "code",
   "execution_count": 1,
   "metadata": {
    "scrolled": true
   },
   "outputs": [
    {
     "name": "stderr",
     "output_type": "stream",
     "text": [
      "\r",
      "0it [00:00, ?it/s]"
     ]
    },
    {
     "name": "stdout",
     "output_type": "stream",
     "text": [
      "Downloading http://yann.lecun.com/exdb/mnist/train-images-idx3-ubyte.gz to data\\MNIST\\raw\\train-images-idx3-ubyte.gz\n"
     ]
    },
    {
     "name": "stderr",
     "output_type": "stream",
     "text": [
      "100%|████████████████████████████████████████████████████████████████████▊| 9887744/9912422 [01:54<00:01, 19324.11it/s]"
     ]
    },
    {
     "name": "stdout",
     "output_type": "stream",
     "text": [
      "Extracting data\\MNIST\\raw\\train-images-idx3-ubyte.gz to data\\MNIST\\raw\n"
     ]
    },
    {
     "name": "stderr",
     "output_type": "stream",
     "text": [
      "\n",
      "0it [00:00, ?it/s]\u001b[A"
     ]
    },
    {
     "name": "stdout",
     "output_type": "stream",
     "text": [
      "Downloading http://yann.lecun.com/exdb/mnist/train-labels-idx1-ubyte.gz to data\\MNIST\\raw\\train-labels-idx1-ubyte.gz\n"
     ]
    },
    {
     "name": "stderr",
     "output_type": "stream",
     "text": [
      "\n",
      "  0%|                                                                                        | 0/28881 [00:00<?, ?it/s]\u001b[A\n",
      "32768it [00:01, 28393.54it/s]                                                                                          \u001b[A\n",
      "\n",
      "0it [00:00, ?it/s]\u001b[A"
     ]
    },
    {
     "name": "stdout",
     "output_type": "stream",
     "text": [
      "Extracting data\\MNIST\\raw\\train-labels-idx1-ubyte.gz to data\\MNIST\\raw\n",
      "Downloading http://yann.lecun.com/exdb/mnist/t10k-images-idx3-ubyte.gz to data\\MNIST\\raw\\t10k-images-idx3-ubyte.gz\n"
     ]
    },
    {
     "name": "stderr",
     "output_type": "stream",
     "text": [
      "\n",
      "  0%|                                                                                      | 0/1648877 [00:00<?, ?it/s]\u001b[A\n",
      "  0%|▎                                                                       | 8192/1648877 [00:00<00:26, 62348.12it/s]\u001b[A\n",
      "  2%|█▍                                                                     | 32768/1648877 [00:00<00:20, 78379.95it/s]\u001b[A\n",
      "  4%|██▊                                                                    | 65536/1648877 [00:01<00:17, 90687.49it/s]\u001b[A\n",
      "  7%|█████▏                                                               | 122880/1648877 [00:01<00:12, 121069.46it/s]\u001b[A\n",
      " 11%|███████▉                                                             | 188416/1648877 [00:01<00:09, 159846.29it/s]\u001b[A\n",
      " 14%|█████████▉                                                           | 237568/1648877 [00:01<00:07, 188382.67it/s]\u001b[A\n",
      " 17%|███████████▋                                                         | 278528/1648877 [00:01<00:08, 168914.63it/s]\u001b[A\n",
      " 19%|█████████████                                                        | 311296/1648877 [00:02<00:10, 126063.30it/s]\u001b[A\n",
      " 20%|██████████████                                                       | 335872/1648877 [00:02<00:11, 119252.11it/s]\u001b[A\n",
      " 22%|███████████████                                                      | 360448/1648877 [00:02<00:10, 124759.22it/s]\u001b[A\n",
      " 24%|████████████████▍                                                    | 393216/1648877 [00:02<00:08, 152387.27it/s]\u001b[A\n",
      " 27%|██████████████████▊                                                  | 450560/1648877 [00:02<00:06, 194346.67it/s]\u001b[A\n",
      " 31%|█████████████████████▌                                               | 516096/1648877 [00:02<00:04, 243912.01it/s]\u001b[A\n",
      " 36%|████████████████████████▋                                            | 589824/1648877 [00:02<00:03, 302927.33it/s]\u001b[A\n",
      " 39%|███████████████████████████                                          | 647168/1648877 [00:03<00:03, 323057.56it/s]\u001b[A\n",
      " 42%|█████████████████████████████▏                                       | 696320/1648877 [00:03<00:03, 301154.71it/s]\u001b[A\n",
      " 45%|███████████████████████████████▎                                      | 737280/1648877 [00:04<00:10, 84019.31it/s]\u001b[A\n",
      " 47%|████████████████████████████████▏                                    | 770048/1648877 [00:04<00:08, 101220.42it/s]\u001b[A\n",
      " 49%|█████████████████████████████████▌                                   | 802816/1648877 [00:04<00:06, 122627.96it/s]\u001b[A\n",
      " 51%|███████████████████████████████████▎                                 | 843776/1648877 [00:05<00:05, 139574.35it/s]\u001b[A\n",
      " 53%|████████████████████████████████████▎                                | 868352/1648877 [00:05<00:06, 124760.17it/s]\u001b[A\n",
      " 54%|█████████████████████████████████████▎                               | 892928/1648877 [00:05<00:07, 103198.79it/s]\u001b[A\n",
      " 55%|██████████████████████████████████████▌                               | 909312/1648877 [00:07<00:27, 27348.46it/s]\u001b[A\n",
      " 56%|███████████████████████████████████████▎                              | 925696/1648877 [00:07<00:22, 31622.18it/s]\u001b[A\n",
      " 57%|███████████████████████████████████████▉                              | 942080/1648877 [00:09<00:36, 19232.51it/s]\u001b[A\n",
      " 58%|████████████████████████████████████████▎                             | 950272/1648877 [00:09<00:29, 23327.77it/s]\u001b[A\n",
      " 59%|█████████████████████████████████████████                             | 966656/1648877 [00:09<00:24, 28238.98it/s]\u001b[A\n",
      " 59%|█████████████████████████████████████████▍                            | 974848/1648877 [00:09<00:20, 33380.04it/s]\u001b[A\n",
      " 60%|██████████████████████████████████████████                            | 991232/1648877 [00:09<00:15, 43785.08it/s]\u001b[A\n",
      " 63%|███████████████████████████████████████████▌                         | 1040384/1648877 [00:10<00:10, 59779.33it/s]\u001b[A\n",
      " 66%|█████████████████████████████████████████████▌                       | 1089536/1648877 [00:10<00:06, 80350.80it/s]\u001b[A\n",
      " 69%|██████████████████████████████████████████████▉                     | 1138688/1648877 [00:10<00:04, 104486.94it/s]\u001b[A\n",
      " 71%|█████████████████████████████████████████████████                    | 1171456/1648877 [00:10<00:04, 96853.34it/s]\u001b[A\n",
      "9920512it [02:10, 19324.11it/s]                                                                                        \u001b[A\n",
      " 74%|██████████████████████████████████████████████████▋                  | 1212416/1648877 [00:13<00:17, 25432.41it/s]\u001b[A\n",
      " 75%|███████████████████████████████████████████████████▍                 | 1228800/1648877 [00:14<00:22, 18837.92it/s]\u001b[A\n",
      " 76%|████████████████████████████████████████████████████                 | 1245184/1648877 [00:14<00:15, 25606.08it/s]\u001b[A\n",
      " 77%|████████████████████████████████████████████████████▊                | 1261568/1648877 [00:15<00:12, 31067.36it/s]\u001b[A\n",
      " 78%|█████████████████████████████████████████████████████▍               | 1277952/1648877 [00:15<00:10, 34878.42it/s]\u001b[A\n",
      " 78%|█████████████████████████████████████████████████████▊               | 1286144/1648877 [00:15<00:10, 36176.36it/s]\u001b[A\n",
      " 78%|██████████████████████████████████████████████████████▏              | 1294336/1648877 [00:15<00:09, 39289.94it/s]\u001b[A\n",
      " 79%|██████████████████████████████████████████████████████▌              | 1302528/1648877 [00:16<00:08, 39887.37it/s]\u001b[A\n",
      " 80%|███████████████████████████████████████████████████████▏             | 1318912/1648877 [00:16<00:07, 46927.14it/s]\u001b[A\n",
      " 80%|███████████████████████████████████████████████████████▌             | 1327104/1648877 [00:16<00:06, 51556.76it/s]\u001b[A\n",
      " 81%|████████████████████████████████████████████████████████▏            | 1343488/1648877 [00:16<00:04, 64032.07it/s]\u001b[A\n",
      " 82%|████████████████████████████████████████████████████████▉            | 1359872/1648877 [00:16<00:04, 71227.87it/s]\u001b[A\n",
      " 83%|█████████████████████████████████████████████████████████▌           | 1376256/1648877 [00:16<00:03, 82818.17it/s]\u001b[A\n",
      " 85%|██████████████████████████████████████████████████████████▌          | 1400832/1648877 [00:16<00:02, 99893.96it/s]\u001b[A\n",
      " 86%|██████████████████████████████████████████████████████████▊         | 1425408/1648877 [00:17<00:01, 114969.04it/s]\u001b[A\n",
      " 87%|███████████████████████████████████████████████████████████▍        | 1441792/1648877 [00:17<00:01, 120252.72it/s]\u001b[A\n",
      " 88%|████████████████████████████████████████████████████████████▏       | 1458176/1648877 [00:17<00:01, 119993.87it/s]\u001b[A\n",
      " 91%|█████████████████████████████████████████████████████████████▊      | 1499136/1648877 [00:17<00:01, 147246.63it/s]\u001b[A\n",
      " 94%|███████████████████████████████████████████████████████████████▊    | 1548288/1648877 [00:17<00:00, 185682.70it/s]\u001b[A\n",
      " 97%|█████████████████████████████████████████████████████████████████▉  | 1597440/1648877 [00:17<00:00, 222855.27it/s]\u001b[A\n",
      " 99%|████████████████████████████████████████████████████████████████████▏| 1630208/1648877 [00:18<00:00, 69200.21it/s]\u001b[A\n",
      "1654784it [00:20, 40893.02it/s]                                                                                        \u001b[A\n",
      "\n",
      "0it [00:00, ?it/s]\u001b[A\u001b[A"
     ]
    },
    {
     "name": "stdout",
     "output_type": "stream",
     "text": [
      "Extracting data\\MNIST\\raw\\t10k-images-idx3-ubyte.gz to data\\MNIST\\raw\n",
      "Downloading http://yann.lecun.com/exdb/mnist/t10k-labels-idx1-ubyte.gz to data\\MNIST\\raw\\t10k-labels-idx1-ubyte.gz\n"
     ]
    },
    {
     "name": "stderr",
     "output_type": "stream",
     "text": [
      "\n",
      "\n",
      "  0%|                                                                                         | 0/4542 [00:00<?, ?it/s]\u001b[A\u001b[A\n",
      "\n",
      "8192it [00:02, 2932.47it/s]                                                                                            \u001b[A\u001b[A"
     ]
    },
    {
     "name": "stdout",
     "output_type": "stream",
     "text": [
      "Extracting data\\MNIST\\raw\\t10k-labels-idx1-ubyte.gz to data\\MNIST\\raw\n",
      "Processing...\n",
      "Done!\n"
     ]
    },
    {
     "name": "stderr",
     "output_type": "stream",
     "text": [
      "\n",
      "\n",
      "1654784it [00:33, 40893.02it/s]\u001b[A"
     ]
    }
   ],
   "source": [
    "import torch\n",
    "import numpy as np\n",
    "from torchvision import datasets\n",
    "import torchvision.transforms as transforms\n",
    "\n",
    "# convert data to torch.FloatTensor\n",
    "transform = transforms.ToTensor()\n",
    "\n",
    "# load the training and test datasets\n",
    "train_data = datasets.MNIST(root='data', train=True,\n",
    "                                   download=True, transform=transform)\n",
    "test_data = datasets.MNIST(root='data', train=False,\n",
    "                                  download=True, transform=transform)"
   ]
  },
  {
   "cell_type": "code",
   "execution_count": 2,
   "metadata": {},
   "outputs": [],
   "source": [
    "# Create training and test dataloaders\n",
    "\n",
    "# number of subprocesses to use for data loading\n",
    "num_workers = 0\n",
    "# how many samples per batch to load\n",
    "batch_size = 20\n",
    "\n",
    "# prepare data loaders\n",
    "train_loader = torch.utils.data.DataLoader(train_data, batch_size=batch_size, num_workers=num_workers)\n",
    "test_loader = torch.utils.data.DataLoader(test_data, batch_size=batch_size, num_workers=num_workers)"
   ]
  },
  {
   "cell_type": "markdown",
   "metadata": {},
   "source": [
    "### Visualize the Data"
   ]
  },
  {
   "cell_type": "code",
   "execution_count": 3,
   "metadata": {},
   "outputs": [
    {
     "data": {
      "text/plain": [
       "<matplotlib.image.AxesImage at 0x1c1258ed5f8>"
      ]
     },
     "execution_count": 3,
     "metadata": {},
     "output_type": "execute_result"
    },
    {
     "data": {
      "image/png": "[encoded data removed]",
      "text/plain": [
       "<Figure size 360x360 with 1 Axes>"
      ]
     },
     "metadata": {
      "needs_background": "light"
     },
     "output_type": "display_data"
    }
   ],
   "source": [
    "import matplotlib.pyplot as plt\n",
    "%matplotlib inline\n",
    "    \n",
    "# obtain one batch of training images\n",
    "dataiter = iter(train_loader)\n",
    "images, labels = dataiter.next()\n",
    "images = images.numpy()\n",
    "\n",
    "# get one image from the batch\n",
    "img = np.squeeze(images[0])\n",
    "\n",
    "fig = plt.figure(figsize = (5,5)) \n",
    "ax = fig.add_subplot(111)\n",
    "ax.imshow(img, cmap='gray')"
   ]
  },
  {
   "cell_type": "markdown",
   "metadata": {},
   "source": [
    "---\n",
    "## Linear Autoencoder\n",
    "\n",
    "We'll train an autoencoder with these images by flattening them into 784 length vectors. The images from this dataset are already normalized such that the values are between 0 and 1. Let's start by building a simple autoencoder. The encoder and decoder should be made of **one linear layer**. The units that connect the encoder and decoder will be the _compressed representation_.\n",
    "\n",
    "Since the images are normalized between 0 and 1, we need to use a **sigmoid activation on the output layer** to get values that match this input value range.\n",
    "\n",
    "<img src='notebook_ims/simple_autoencoder.png' width=50% />\n",
    "\n",
    "\n",
    "#### TODO: Build the graph for the autoencoder in the cell below. \n",
    "> The input images will be flattened into 784 length vectors. The targets are the same as the inputs. \n",
    "> The encoder and decoder will be made of two linear layers, each.\n",
    "> The depth dimensions should change as follows: 784 inputs > **encoding_dim** > 784 outputs.\n",
    "> All layers will have ReLu activations applied except for the final output layer, which has a sigmoid activation.\n",
    "\n",
    "**The compressed representation should be a vector with dimension `encoding_dim=32`.**"
   ]
  },
  {
   "cell_type": "code",
   "execution_count": 7,
   "metadata": {},
   "outputs": [
    {
     "name": "stdout",
     "output_type": "stream",
     "text": [
      "Autoencoder(\n",
      "  (enc): Linear(in_features=784, out_features=32, bias=True)\n",
      "  (dec): Linear(in_features=32, out_features=784, bias=True)\n",
      ")\n"
     ]
    }
   ],
   "source": [
    "import torch.nn as nn\n",
    "import torch.nn.functional as F\n",
    "\n",
    "# define the NN architecture\n",
    "class Autoencoder(nn.Module):\n",
    "    def __init__(self, encoding_dim):\n",
    "        super(Autoencoder, self).__init__()\n",
    "        ## encoder ##\n",
    "        self.enc = nn.Linear(784, encoding_dim)\n",
    "        \n",
    "        ## decoder ##\n",
    "        self.dec = nn.Linear(encoding_dim, 784)\n",
    "        \n",
    "\n",
    "    def forward(self, x):\n",
    "        # define feedforward behavior \n",
    "        # and scale the *output* layer with a sigmoid activation function\n",
    "        x = F.relu(self.enc(x))\n",
    "        x = F.sigmoid(self.dec(x))\n",
    "        \n",
    "        return x\n",
    "\n",
    "# initialize the NN\n",
    "encoding_dim = 32\n",
    "model = Autoencoder(encoding_dim)\n",
    "print(model)"
   ]
  },
  {
   "cell_type": "markdown",
   "metadata": {},
   "source": [
    "---\n",
    "## Training\n",
    "\n",
    "Here I'll write a bit of code to train the network. I'm not too interested in validation here, so I'll just monitor the training loss and the test loss afterwards. \n",
    "\n",
    "We are not concerned with labels in this case, just images, which we can get from the `train_loader`. Because we're comparing pixel values in input and output images, it will be best to use a loss that is meant for a regression task. Regression is all about comparing _quantities_ rather than probabilistic values. So, in this case, I'll use `MSELoss`. And compare output images and input images as follows:\n",
    "```\n",
    "loss = criterion(outputs, images)\n",
    "```\n",
    "\n",
    "Otherwise, this is pretty straightfoward training with PyTorch. We flatten our images, pass them into the autoencoder, and record the training loss as we go."
   ]
  },
  {
   "cell_type": "code",
   "execution_count": 8,
   "metadata": {},
   "outputs": [],
   "source": [
    "# specify loss function\n",
    "criterion = nn.MSELoss()\n",
    "\n",
    "# specify loss function\n",
    "optimizer = torch.optim.Adam(model.parameters(), lr=0.001)"
   ]
  },
  {
   "cell_type": "code",
   "execution_count": 9,
   "metadata": {},
   "outputs": [
    {
     "name": "stderr",
     "output_type": "stream",
     "text": [
      "C:\\Users\\ASUS\\Anaconda3\\envs\\python-cvcourse\\lib\\site-packages\\torch\\nn\\functional.py:1351: UserWarning: nn.functional.sigmoid is deprecated. Use torch.sigmoid instead.\n",
      "  warnings.warn(\"nn.functional.sigmoid is deprecated. Use torch.sigmoid instead.\")\n"
     ]
    },
    {
     "name": "stdout",
     "output_type": "stream",
     "text": [
      "Epoch: 1 \tTraining Loss: 0.700584\n",
      "Epoch: 2 \tTraining Loss: 0.376067\n",
      "Epoch: 3 \tTraining Loss: 0.335988\n",
      "Epoch: 4 \tTraining Loss: 0.328484\n",
      "Epoch: 5 \tTraining Loss: 0.325559\n",
      "Epoch: 6 \tTraining Loss: 0.323503\n",
      "Epoch: 7 \tTraining Loss: 0.321955\n",
      "Epoch: 8 \tTraining Loss: 0.320644\n",
      "Epoch: 9 \tTraining Loss: 0.319506\n",
      "Epoch: 10 \tTraining Loss: 0.318466\n",
      "Epoch: 11 \tTraining Loss: 0.317463\n",
      "Epoch: 12 \tTraining Loss: 0.316470\n",
      "Epoch: 13 \tTraining Loss: 0.315497\n",
      "Epoch: 14 \tTraining Loss: 0.314563\n",
      "Epoch: 15 \tTraining Loss: 0.313672\n",
      "Epoch: 16 \tTraining Loss: 0.312845\n",
      "Epoch: 17 \tTraining Loss: 0.312084\n",
      "Epoch: 18 \tTraining Loss: 0.311387\n",
      "Epoch: 19 \tTraining Loss: 0.310753\n",
      "Epoch: 20 \tTraining Loss: 0.310172\n"
     ]
    }
   ],
   "source": [
    "# number of epochs to train the model\n",
    "n_epochs = 20\n",
    "\n",
    "for epoch in range(1, n_epochs+1):\n",
    "    # monitor training loss\n",
    "    train_loss = 0.0\n",
    "    \n",
    "    ###################\n",
    "    # train the model #\n",
    "    ###################\n",
    "    for data in train_loader:\n",
    "        # _ stands in for labels, here\n",
    "        images, _ = data\n",
    "        # flatten images\n",
    "        images = images.view(images.size(0), -1)\n",
    "        # clear the gradients of all optimized variables\n",
    "        optimizer.zero_grad()\n",
    "        # forward pass: compute predicted outputs by passing inputs to the model\n",
    "        outputs = model(images)\n",
    "        # calculate the loss\n",
    "        loss = criterion(outputs, images)\n",
    "        # backward pass: compute gradient of the loss with respect to model parameters\n",
    "        loss.backward()\n",
    "        # perform a single optimization step (parameter update)\n",
    "        optimizer.step()\n",
    "        # update running training loss\n",
    "        train_loss += loss.item()*images.size(0)\n",
    "            \n",
    "    # print avg training statistics \n",
    "    train_loss = train_loss/len(train_loader)\n",
    "    print('Epoch: {} \\tTraining Loss: {:.6f}'.format(\n",
    "        epoch, \n",
    "        train_loss\n",
    "        ))"
   ]
  },
  {
   "cell_type": "markdown",
   "metadata": {},
   "source": [
    "## Checking out the results\n",
    "\n",
    "Below I've plotted some of the test images along with their reconstructions. For the most part these look pretty good except for some blurriness in some parts."
   ]
  },
  {
   "cell_type": "code",
   "execution_count": 10,
   "metadata": {},
   "outputs": [
    {
     "name": "stderr",
     "output_type": "stream",
     "text": [
      "C:\\Users\\ASUS\\Anaconda3\\envs\\python-cvcourse\\lib\\site-packages\\torch\\nn\\functional.py:1351: UserWarning: nn.functional.sigmoid is deprecated. Use torch.sigmoid instead.\n",
      "  warnings.warn(\"nn.functional.sigmoid is deprecated. Use torch.sigmoid instead.\")\n"
     ]
    },
    {
     "data": {
      "image/png": "[encoded data removed]",
      "text/plain": [
       "<Figure size 1800x288 with 20 Axes>"
      ]
     },
     "metadata": {
      "needs_background": "light"
     },
     "output_type": "display_data"
    }
   ],
   "source": [
    "# obtain one batch of test images\n",
    "dataiter = iter(test_loader)\n",
    "images, labels = dataiter.next()\n",
    "\n",
    "images_flatten = images.view(images.size(0), -1)\n",
    "# get sample outputs\n",
    "output = model(images_flatten)\n",
    "# prep images for display\n",
    "images = images.numpy()\n",
    "\n",
    "# output is resized into a batch of images\n",
    "output = output.view(batch_size, 1, 28, 28)\n",
    "# use detach when it's an output that requires_grad\n",
    "output = output.detach().numpy()\n",
    "\n",
    "# plot the first ten input images and then reconstructed images\n",
    "fig, axes = plt.subplots(nrows=2, ncols=10, sharex=True, sharey=True, figsize=(25,4))\n",
    "\n",
    "# input images on top row, reconstructions on bottom\n",
    "for images, row in zip([images, output], axes):\n",
    "    for img, ax in zip(images, row):\n",
    "        ax.imshow(np.squeeze(img), cmap='gray')\n",
    "        ax.get_xaxis().set_visible(False)\n",
    "        ax.get_yaxis().set_visible(False)"
   ]
  },
  {
   "cell_type": "markdown",
   "metadata": {
    "collapsed": true
   },
   "source": [
    "## Up Next\n",
    "\n",
    "We're dealing with images here, so we can (usually) get better performance using convolution layers. So, next we'll build a better autoencoder with convolutional layers."
   ]
  }
 ],
 "metadata": {
  "kernelspec": {
   "display_name": "Python 3",
   "language": "python",
   "name": "python3"
  },
  "language_info": {
   "codemirror_mode": {
    "name": "ipython",
    "version": 3
   },
   "file_extension": ".py",
   "mimetype": "text/x-python",
   "name": "python",
   "nbconvert_exporter": "python",
   "pygments_lexer": "ipython3",
   "version": "3.6.6"
  }
 },
 "nbformat": 4,
 "nbformat_minor": 2
}
